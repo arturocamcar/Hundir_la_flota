{
 "cells": [
  {
   "cell_type": "code",
   "execution_count": null,
   "metadata": {},
   "outputs": [],
   "source": [
    "def solicitar_coordenadas(jugador):\n",
    "    print(f'Solicitanto coordenadas de disparo al jugador {jugador}')\n",
    "\n",
    "    y= None\n",
    "    x= None\n",
    "\n",
    "    while True:\n",
    "        letra_fila = input"
   ]
  },
  {
   "cell_type": "code",
   "execution_count": null,
   "metadata": {},
   "outputs": [],
   "source": [
    "#defino jugadores, manual y maquina(random)\n"
   ]
  },
  {
   "cell_type": "code",
   "execution_count": null,
   "metadata": {},
   "outputs": [],
   "source": [
    "#defino biblioteca de barcos"
   ]
  },
  {
   "cell_type": "code",
   "execution_count": null,
   "metadata": {},
   "outputs": [],
   "source": [
    "#comprobar barcos enemigos\n",
    "\n",
    "def todos_los_barcos_hundidos(matriz):\n",
    "    for Y in range (FILAS):\n",
    "        for X in range (COLUMNAS):\n",
    "            celda = matriz [Y][X]\n",
    "\n",
    "            if celda != AGUA and celda != Disparo_Acertado and celda != Disparo_fallado:\n",
    "                return False\n",
    "    \n",
    "    return True\n"
   ]
  },
  {
   "cell_type": "code",
   "execution_count": null,
   "metadata": {},
   "outputs": [],
   "source": [
    "#"
   ]
  }
 ],
 "metadata": {
  "language_info": {
   "name": "python"
  },
  "orig_nbformat": 4
 },
 "nbformat": 4,
 "nbformat_minor": 2
}
